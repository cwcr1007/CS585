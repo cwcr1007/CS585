{
 "cells": [
  {
   "cell_type": "code",
   "execution_count": 1,
   "metadata": {},
   "outputs": [],
   "source": [
    "import math, numpy"
   ]
  },
  {
   "cell_type": "code",
   "execution_count": 2,
   "metadata": {},
   "outputs": [],
   "source": [
    "R,r,a = 8,1,4\n",
    "centerX = -118.28540388626199\n",
    "centerY = 34.02070415967064"
   ]
  },
  {
   "cell_type": "code",
   "execution_count": 3,
   "metadata": {},
   "outputs": [],
   "source": [
    "points = []\n",
    "for t in numpy.arange(0, 16*math.pi, 0.01):\n",
    "    x = centerX + 0.001*((R+r)*math.cos((r/R)*t) - a*math.cos((1+r/R)*t))\n",
    "    y = centerY + 0.001*((R+r)*math.sin((r/R)*t) - a*math.sin((1+r/R)*t))\n",
    "    points.append((x, y))"
   ]
  },
  {
   "cell_type": "code",
   "execution_count": 4,
   "metadata": {},
   "outputs": [],
   "source": [
    "with open('spiro.kml', 'w') as f:\n",
    "    for point in points:\n",
    "        f.write('{},{}\\n'.format(point[0],point[1]))"
   ]
  }
 ],
 "metadata": {
  "kernelspec": {
   "display_name": "Python 3",
   "language": "python",
   "name": "python3"
  },
  "language_info": {
   "codemirror_mode": {
    "name": "ipython",
    "version": 3
   },
   "file_extension": ".py",
   "mimetype": "text/x-python",
   "name": "python",
   "nbconvert_exporter": "python",
   "pygments_lexer": "ipython3",
   "version": "3.9.1"
  }
 },
 "nbformat": 4,
 "nbformat_minor": 4
}
